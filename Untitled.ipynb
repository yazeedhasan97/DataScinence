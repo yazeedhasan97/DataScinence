{
 "cells": [
  {
   "cell_type": "code",
   "execution_count": 1,
   "id": "650ddbc2-d4a0-400d-b813-23e13b71c5d0",
   "metadata": {},
   "outputs": [],
   "source": [
    "import numpy as np\n",
    "import pandas as pd"
   ]
  },
  {
   "cell_type": "code",
   "execution_count": 21,
   "id": "81b9fec7-732c-454c-83e9-295725d9a183",
   "metadata": {},
   "outputs": [
    {
     "data": {
      "text/plain": [
       "[[[1], [2], [3]], [[4], [5], [6], [5, 6, 9]]]"
      ]
     },
     "execution_count": 21,
     "metadata": {},
     "output_type": "execute_result"
    }
   ],
   "source": [
    "a = 5 # scaler\n",
    "a = [1, 2, 3,] # vector\n",
    "a = [[1, 2, 3], [4, 5, 6,]] # matrix\n",
    "a = [[[1], [2], [3]], [[4], [5], [6], [5, 6, 9 ],]] # 3darray\n",
    "a"
   ]
  },
  {
   "cell_type": "code",
   "execution_count": 22,
   "id": "2f357a5c-bb19-4306-9616-2dc9d198c328",
   "metadata": {},
   "outputs": [],
   "source": [
    "# ar = np.ndarray([5, 3, 2, 3])\n",
    "# ar"
   ]
  },
  {
   "cell_type": "code",
   "execution_count": 8,
   "id": "ee6e618c-969c-4df2-ad04-c0ceb7133776",
   "metadata": {},
   "outputs": [
    {
     "data": {
      "text/plain": [
       "array([[0.00000000e+000, 1.03752397e-311],\n",
       "       [1.03752397e-311, 1.03752397e-311]])"
      ]
     },
     "execution_count": 8,
     "metadata": {},
     "output_type": "execute_result"
    }
   ],
   "source": [
    "ar"
   ]
  },
  {
   "cell_type": "code",
   "execution_count": 34,
   "id": "9f932d7f-4f3e-4c20-8b73-028672f140b6",
   "metadata": {},
   "outputs": [
    {
     "data": {
      "text/html": [
       "<div>\n",
       "<style scoped>\n",
       "    .dataframe tbody tr th:only-of-type {\n",
       "        vertical-align: middle;\n",
       "    }\n",
       "\n",
       "    .dataframe tbody tr th {\n",
       "        vertical-align: top;\n",
       "    }\n",
       "\n",
       "    .dataframe thead th {\n",
       "        text-align: right;\n",
       "    }\n",
       "</style>\n",
       "<table border=\"1\" class=\"dataframe\">\n",
       "  <thead>\n",
       "    <tr style=\"text-align: right;\">\n",
       "      <th></th>\n",
       "      <th>Name</th>\n",
       "      <th>Age</th>\n",
       "    </tr>\n",
       "  </thead>\n",
       "  <tbody>\n",
       "    <tr>\n",
       "      <th>0</th>\n",
       "      <td>Yazeed</td>\n",
       "      <td>50.0</td>\n",
       "    </tr>\n",
       "    <tr>\n",
       "      <th>1</th>\n",
       "      <td>Dema</td>\n",
       "      <td>20.5</td>\n",
       "    </tr>\n",
       "  </tbody>\n",
       "</table>\n",
       "</div>"
      ],
      "text/plain": [
       "     Name   Age\n",
       "0  Yazeed  50.0\n",
       "1    Dema  20.5"
      ]
     },
     "execution_count": 34,
     "metadata": {},
     "output_type": "execute_result"
    }
   ],
   "source": [
    "df = pd.DataFrame({\n",
    "    \"Name\": ['Yazeed', \"Dema\",],\n",
    "    \"Age\": [50, 20.5]\n",
    "})\n",
    "df"
   ]
  },
  {
   "cell_type": "code",
   "execution_count": 35,
   "id": "6ad98950-7c06-46ba-be73-07c1f7d1f768",
   "metadata": {},
   "outputs": [
    {
     "name": "stdout",
     "output_type": "stream",
     "text": [
      "<class 'pandas.core.frame.DataFrame'>\n",
      "RangeIndex: 2 entries, 0 to 1\n",
      "Data columns (total 2 columns):\n",
      " #   Column  Non-Null Count  Dtype  \n",
      "---  ------  --------------  -----  \n",
      " 0   Name    2 non-null      object \n",
      " 1   Age     2 non-null      float64\n",
      "dtypes: float64(1), object(1)\n",
      "memory usage: 164.0+ bytes\n"
     ]
    }
   ],
   "source": [
    "df.info()"
   ]
  },
  {
   "cell_type": "code",
   "execution_count": 36,
   "id": "0e73a0e3-c8df-4a70-9d0c-08b0c93e283a",
   "metadata": {},
   "outputs": [
    {
     "data": {
      "text/plain": [
       "(array([[0., 0., 0.],\n",
       "        [0., 0., 0.],\n",
       "        [0., 0., 0.]]),\n",
       " array([[6.23042070e-307, 4.67296746e-307, 1.69121096e-306],\n",
       "        [2.31420855e-306, 1.89146896e-307, 7.56571288e-307],\n",
       "        [3.11525958e-307, 1.24610723e-306, 0.00000000e+000]]))"
      ]
     },
     "execution_count": 36,
     "metadata": {},
     "output_type": "execute_result"
    }
   ],
   "source": [
    "ar = np.ndarray([3, 3])\n",
    "ax = np.ndarray([3, 3])\n",
    "\n",
    "ar, ax"
   ]
  },
  {
   "cell_type": "code",
   "execution_count": 37,
   "id": "f32ea007-da05-49aa-8ac3-d481db2765b5",
   "metadata": {},
   "outputs": [
    {
     "ename": "TypeError",
     "evalue": "only integer scalar arrays can be converted to a scalar index",
     "output_type": "error",
     "traceback": [
      "\u001b[1;31m---------------------------------------------------------------------------\u001b[0m",
      "\u001b[1;31mTypeError\u001b[0m                                 Traceback (most recent call last)",
      "Cell \u001b[1;32mIn[37], line 2\u001b[0m\n\u001b[0;32m      1\u001b[0m z \u001b[38;5;241m=\u001b[39m []\n\u001b[1;32m----> 2\u001b[0m \u001b[38;5;28;01mfor\u001b[39;00m i \u001b[38;5;129;01min\u001b[39;00m \u001b[38;5;28;43mrange\u001b[39;49m\u001b[43m(\u001b[49m\u001b[43mar\u001b[49m\u001b[43m)\u001b[49m:\n\u001b[0;32m      3\u001b[0m     \u001b[38;5;28;01mfor\u001b[39;00m j \u001b[38;5;129;01min\u001b[39;00m \u001b[38;5;28mrange\u001b[39m(ax):\n\u001b[0;32m      4\u001b[0m         z\u001b[38;5;241m.\u001b[39mappend(ar[i, j] \u001b[38;5;241m+\u001b[39m ax[i,j])\n",
      "\u001b[1;31mTypeError\u001b[0m: only integer scalar arrays can be converted to a scalar index"
     ]
    }
   ],
   "source": [
    "z = []\n",
    "for i in range(ar):\n",
    "    for j in range(ax):\n",
    "        z.append(ar[i, j] + ax[i,j])\n",
    "z"
   ]
  },
  {
   "cell_type": "code",
   "execution_count": 38,
   "id": "1c6f2a77-991d-4f2d-b0aa-7fcc31f40fa0",
   "metadata": {},
   "outputs": [
    {
     "data": {
      "text/plain": [
       "array([[6.23042070e-307, 4.67296746e-307, 1.69121096e-306],\n",
       "       [2.31420855e-306, 1.89146896e-307, 7.56571288e-307],\n",
       "       [3.11525958e-307, 1.24610723e-306, 0.00000000e+000]])"
      ]
     },
     "execution_count": 38,
     "metadata": {},
     "output_type": "execute_result"
    }
   ],
   "source": [
    "ar + ax # SIMD # fastest on singular processing level"
   ]
  },
  {
   "cell_type": "code",
   "execution_count": null,
   "id": "d3850445-c8c8-4eb3-aec1-9ea2dfc6afcd",
   "metadata": {},
   "outputs": [],
   "source": [
    "# Object - Raw Data\n",
    "# List - Array # single data type # array doesn't work on scaler level\n"
   ]
  },
  {
   "cell_type": "code",
   "execution_count": 39,
   "id": "206c21e1-c1e6-47e5-8106-e5a7538a836c",
   "metadata": {},
   "outputs": [
    {
     "data": {
      "text/plain": [
       "array([0.])"
      ]
     },
     "execution_count": 39,
     "metadata": {},
     "output_type": "execute_result"
    }
   ],
   "source": [
    "ax = np.ndarray([1])\n",
    "ax"
   ]
  },
  {
   "cell_type": "code",
   "execution_count": 43,
   "id": "a7ffd60b-35c8-4fe7-9087-3c4a133de73f",
   "metadata": {},
   "outputs": [
    {
     "name": "stdout",
     "output_type": "stream",
     "text": [
      "Collecting opencv-python\n",
      "  Downloading opencv_python-4.10.0.84-cp37-abi3-win_amd64.whl.metadata (20 kB)\n",
      "Requirement already satisfied: numpy>=1.21.2 in c:\\users\\yazee\\appdata\\local\\programs\\python\\python312\\lib\\site-packages (from opencv-python) (1.26.4)\n",
      "Downloading opencv_python-4.10.0.84-cp37-abi3-win_amd64.whl (38.8 MB)\n",
      "   ---------------------------------------- 0.0/38.8 MB ? eta -:--:--\n",
      "   ---------------------------------------- 0.3/38.8 MB ? eta -:--:--\n",
      "   -- ------------------------------------- 2.1/38.8 MB 9.0 MB/s eta 0:00:05\n",
      "   ---- ----------------------------------- 4.5/38.8 MB 10.3 MB/s eta 0:00:04\n",
      "   ------- -------------------------------- 6.8/38.8 MB 10.8 MB/s eta 0:00:03\n",
      "   ------- -------------------------------- 6.8/38.8 MB 10.8 MB/s eta 0:00:03\n",
      "   ----------- ---------------------------- 11.5/38.8 MB 10.9 MB/s eta 0:00:03\n",
      "   -------------- ------------------------- 13.9/38.8 MB 11.0 MB/s eta 0:00:03\n",
      "   ---------------- ----------------------- 16.3/38.8 MB 11.2 MB/s eta 0:00:03\n",
      "   ------------------- -------------------- 18.6/38.8 MB 11.3 MB/s eta 0:00:02\n",
      "   --------------------- ------------------ 21.0/38.8 MB 11.3 MB/s eta 0:00:02\n",
      "   ------------------------ --------------- 23.6/38.8 MB 11.4 MB/s eta 0:00:02\n",
      "   -------------------------- ------------- 26.0/38.8 MB 11.4 MB/s eta 0:00:02\n",
      "   ----------------------------- ---------- 28.6/38.8 MB 11.5 MB/s eta 0:00:01\n",
      "   ------------------------------- -------- 30.9/38.8 MB 11.5 MB/s eta 0:00:01\n",
      "   ---------------------------------- ----- 33.3/38.8 MB 11.5 MB/s eta 0:00:01\n",
      "   ------------------------------------ --- 35.7/38.8 MB 11.6 MB/s eta 0:00:01\n",
      "   ---------------------------------------  38.3/38.8 MB 11.5 MB/s eta 0:00:01\n",
      "   ---------------------------------------- 38.8/38.8 MB 11.3 MB/s eta 0:00:00\n",
      "Installing collected packages: opencv-python\n",
      "Successfully installed opencv-python-4.10.0.84\n"
     ]
    }
   ],
   "source": [
    "! pip install opencv-python\n",
    "import cv2\n",
    "\n",
    "\n"
   ]
  },
  {
   "cell_type": "code",
   "execution_count": 44,
   "id": "a4ee0452-74fe-46ca-9609-c24b0234da10",
   "metadata": {},
   "outputs": [
    {
     "data": {
      "text/plain": [
       "array([[[162,  61, 190],\n",
       "        [162,  61, 190],\n",
       "        [164,  63, 192],\n",
       "        ...,\n",
       "        [226, 174, 204],\n",
       "        [227, 174, 207],\n",
       "        [227, 174, 207]],\n",
       "\n",
       "       [[160,  60, 190],\n",
       "        [162,  61, 190],\n",
       "        [163,  62, 191],\n",
       "        ...,\n",
       "        [222, 165, 203],\n",
       "        [222, 165, 203],\n",
       "        [222, 165, 204]],\n",
       "\n",
       "       [[160,  60, 190],\n",
       "        [160,  60, 190],\n",
       "        [163,  62, 191],\n",
       "        ...,\n",
       "        [216, 154, 202],\n",
       "        [215, 153, 201],\n",
       "        [215, 152, 202]],\n",
       "\n",
       "       ...,\n",
       "\n",
       "       [[  3,  86, 195],\n",
       "        [  3,  86, 195],\n",
       "        [  4,  87, 196],\n",
       "        ...,\n",
       "        [109, 149, 184],\n",
       "        [111, 148, 186],\n",
       "        [112, 148, 186]],\n",
       "\n",
       "       [[  3,  86, 195],\n",
       "        [  3,  86, 195],\n",
       "        [  4,  87, 196],\n",
       "        ...,\n",
       "        [114, 146, 187],\n",
       "        [116, 145, 189],\n",
       "        [116, 145, 189]],\n",
       "\n",
       "       [[  3,  86, 195],\n",
       "        [  3,  86, 195],\n",
       "        [  4,  87, 196],\n",
       "        ...,\n",
       "        [118, 144, 190],\n",
       "        [118, 144, 190],\n",
       "        [120, 143, 191]]], dtype=uint8)"
      ]
     },
     "execution_count": 44,
     "metadata": {},
     "output_type": "execute_result"
    }
   ],
   "source": [
    "img = cv2.imread('download.jfif')\n",
    "img"
   ]
  },
  {
   "cell_type": "code",
   "execution_count": 45,
   "id": "1e9e73e5-815a-43e8-ad0e-eebcc7557658",
   "metadata": {},
   "outputs": [
    {
     "data": {
      "text/plain": [
       "numpy.ndarray"
      ]
     },
     "execution_count": 45,
     "metadata": {},
     "output_type": "execute_result"
    }
   ],
   "source": [
    "type(img)"
   ]
  },
  {
   "cell_type": "code",
   "execution_count": 46,
   "id": "f3f1c277-d4f9-4ccc-b2f1-23d0ecf69d34",
   "metadata": {},
   "outputs": [
    {
     "data": {
      "text/plain": [
       "(168, 300, 3)"
      ]
     },
     "execution_count": 46,
     "metadata": {},
     "output_type": "execute_result"
    }
   ],
   "source": [
    "img.shape"
   ]
  },
  {
   "cell_type": "code",
   "execution_count": 52,
   "id": "b1284848-c36b-4464-8a63-faf541e7d8fb",
   "metadata": {},
   "outputs": [
    {
     "data": {
      "text/plain": [
       "-1"
      ]
     },
     "execution_count": 52,
     "metadata": {},
     "output_type": "execute_result"
    }
   ],
   "source": [
    "cv2.imshow(\"image\", img[::-1])\n",
    "cv2.waitKey(0)"
   ]
  },
  {
   "cell_type": "code",
   "execution_count": null,
   "id": "7be6db22-e278-45dd-8fd6-703b8ee76692",
   "metadata": {},
   "outputs": [],
   "source": []
  },
  {
   "cell_type": "code",
   "execution_count": null,
   "id": "06d81595-9657-4883-a88a-3d6b68811261",
   "metadata": {},
   "outputs": [],
   "source": []
  },
  {
   "cell_type": "code",
   "execution_count": null,
   "id": "350dc8bd-d0c7-4d8d-a32b-9ac717df96f7",
   "metadata": {},
   "outputs": [],
   "source": []
  },
  {
   "cell_type": "code",
   "execution_count": null,
   "id": "0fb75879-a900-4117-887f-aceaa448e1a9",
   "metadata": {},
   "outputs": [],
   "source": []
  },
  {
   "cell_type": "code",
   "execution_count": null,
   "id": "72a2ca6d-4824-4a62-967f-1e3c678cf86d",
   "metadata": {},
   "outputs": [],
   "source": []
  },
  {
   "cell_type": "code",
   "execution_count": null,
   "id": "33182782-9b9b-4ba5-ae6c-fa41ad8935f0",
   "metadata": {},
   "outputs": [],
   "source": []
  },
  {
   "cell_type": "code",
   "execution_count": null,
   "id": "a5409857-4760-4026-b86a-9bf38b6c8ea9",
   "metadata": {},
   "outputs": [],
   "source": []
  },
  {
   "cell_type": "code",
   "execution_count": null,
   "id": "852c62bf-d3b1-4e03-913e-c308e3219bb2",
   "metadata": {},
   "outputs": [],
   "source": []
  },
  {
   "cell_type": "code",
   "execution_count": null,
   "id": "817bd3cb-0dd3-437a-b988-44a8805f834c",
   "metadata": {},
   "outputs": [],
   "source": []
  },
  {
   "cell_type": "code",
   "execution_count": null,
   "id": "82618d69-b96a-4810-8d2a-cee39101f9b0",
   "metadata": {},
   "outputs": [],
   "source": []
  },
  {
   "cell_type": "code",
   "execution_count": null,
   "id": "d689e51a-6b9f-4a1a-8f32-5d15c243bd1c",
   "metadata": {},
   "outputs": [],
   "source": []
  },
  {
   "cell_type": "code",
   "execution_count": null,
   "id": "7e022d1e-a064-4f0d-9519-d470e70ee1d9",
   "metadata": {},
   "outputs": [],
   "source": []
  },
  {
   "cell_type": "code",
   "execution_count": null,
   "id": "89cfa958-073b-4df0-859e-23d068ec3b6e",
   "metadata": {},
   "outputs": [],
   "source": []
  },
  {
   "cell_type": "code",
   "execution_count": null,
   "id": "8d5c3a93-0459-45f5-800a-73c71d6b5445",
   "metadata": {},
   "outputs": [],
   "source": []
  },
  {
   "cell_type": "code",
   "execution_count": null,
   "id": "d56ba352-6e35-4b74-ae27-210ca76ba602",
   "metadata": {},
   "outputs": [],
   "source": []
  },
  {
   "cell_type": "code",
   "execution_count": null,
   "id": "70474f14-09c5-43c1-84b0-ff1cf527d114",
   "metadata": {},
   "outputs": [],
   "source": []
  },
  {
   "cell_type": "code",
   "execution_count": null,
   "id": "9440030d-e2c2-4546-914d-2a56aad6286e",
   "metadata": {},
   "outputs": [],
   "source": [
    "! pip install numpy"
   ]
  },
  {
   "cell_type": "code",
   "execution_count": 1,
   "id": "08f9a312-7939-49e8-81e6-6559f83c4441",
   "metadata": {},
   "outputs": [],
   "source": [
    "import numpy as np"
   ]
  },
  {
   "cell_type": "code",
   "execution_count": 10,
   "id": "40582da2-57d0-4bf6-9115-6e820a98fb1b",
   "metadata": {},
   "outputs": [
    {
     "data": {
      "text/plain": [
       "5"
      ]
     },
     "execution_count": 10,
     "metadata": {},
     "output_type": "execute_result"
    }
   ],
   "source": [
    "lst = [5, 5, 6, \"15\"]\n",
    "lst[0]"
   ]
  },
  {
   "cell_type": "code",
   "execution_count": 8,
   "id": "ae161bb8-b17c-478c-9656-93f7a60789b9",
   "metadata": {},
   "outputs": [
    {
     "data": {
      "text/plain": [
       "(dtype('<U11'), array(['5', '3', '6', 'True'], dtype='<U11'))"
      ]
     },
     "execution_count": 8,
     "metadata": {},
     "output_type": "execute_result"
    }
   ],
   "source": [
    "arr = np.array([5, 3, \"6\", True])\n",
    "arr.dtype, arr"
   ]
  },
  {
   "cell_type": "code",
   "execution_count": 9,
   "id": "e59a8358-68e3-42e8-aa9c-0359b2b3a4ca",
   "metadata": {},
   "outputs": [
    {
     "data": {
      "text/plain": [
       "(dtype('int32'), array([5, 3]))"
      ]
     },
     "execution_count": 9,
     "metadata": {},
     "output_type": "execute_result"
    }
   ],
   "source": [
    "arr = np.array([5, 3,])\n",
    "arr.dtype, arr"
   ]
  },
  {
   "cell_type": "code",
   "execution_count": 21,
   "id": "cfe84db7-daad-4da9-88db-58dcc43cecf2",
   "metadata": {},
   "outputs": [],
   "source": [
    "arr = np.array([5, 3, 6, 9]) # Linear Algebra\n",
    "arr1 = np.array([5, 3, 9, 6])"
   ]
  },
  {
   "cell_type": "code",
   "execution_count": 22,
   "id": "dfa05ee8-470f-4f00-8c4f-53897feb7ad5",
   "metadata": {},
   "outputs": [
    {
     "data": {
      "text/plain": [
       "array([10,  6, 15, 15])"
      ]
     },
     "execution_count": 22,
     "metadata": {},
     "output_type": "execute_result"
    }
   ],
   "source": [
    "arr + arr1"
   ]
  },
  {
   "cell_type": "code",
   "execution_count": 23,
   "id": "2c0d2818-2d65-45ab-9cf6-d5922384bfc8",
   "metadata": {},
   "outputs": [
    {
     "data": {
      "text/plain": [
       "23"
      ]
     },
     "execution_count": 23,
     "metadata": {},
     "output_type": "execute_result"
    }
   ],
   "source": [
    "arr.sum()"
   ]
  },
  {
   "cell_type": "code",
   "execution_count": 24,
   "id": "2f7feb5f-bb65-4d30-8e9a-63984b9c4b98",
   "metadata": {},
   "outputs": [
    {
     "data": {
      "text/plain": [
       "array([ 5,  8, 14, 23])"
      ]
     },
     "execution_count": 24,
     "metadata": {},
     "output_type": "execute_result"
    }
   ],
   "source": [
    "arr.cumsum()"
   ]
  },
  {
   "cell_type": "code",
   "execution_count": 25,
   "id": "86f94dbe-5521-422e-9706-90d975858c82",
   "metadata": {},
   "outputs": [
    {
     "data": {
      "text/plain": [
       "5.75"
      ]
     },
     "execution_count": 25,
     "metadata": {},
     "output_type": "execute_result"
    }
   ],
   "source": [
    "arr.mean()"
   ]
  },
  {
   "cell_type": "code",
   "execution_count": 27,
   "id": "020ea553-8cf2-4375-90de-4dd332825983",
   "metadata": {},
   "outputs": [
    {
     "ename": "AttributeError",
     "evalue": "'numpy.ndarray' object has no attribute 'median'",
     "output_type": "error",
     "traceback": [
      "\u001b[1;31m---------------------------------------------------------------------------\u001b[0m",
      "\u001b[1;31mAttributeError\u001b[0m                            Traceback (most recent call last)",
      "Cell \u001b[1;32mIn[27], line 1\u001b[0m\n\u001b[1;32m----> 1\u001b[0m \u001b[43marr\u001b[49m\u001b[38;5;241;43m.\u001b[39;49m\u001b[43mmedian\u001b[49m()\n",
      "\u001b[1;31mAttributeError\u001b[0m: 'numpy.ndarray' object has no attribute 'median'"
     ]
    }
   ],
   "source": []
  },
  {
   "cell_type": "code",
   "execution_count": 28,
   "id": "4bfcea53-cc6d-4281-affa-c824dbaaac36",
   "metadata": {},
   "outputs": [
    {
     "data": {
      "text/plain": [
       "5.5"
      ]
     },
     "execution_count": 28,
     "metadata": {},
     "output_type": "execute_result"
    }
   ],
   "source": [
    "np.median(arr)"
   ]
  },
  {
   "cell_type": "code",
   "execution_count": 29,
   "id": "229c025a-4467-41f1-b58b-150a7591c447",
   "metadata": {},
   "outputs": [
    {
     "ename": "AttributeError",
     "evalue": "module 'numpy' has no attribute 'mode'",
     "output_type": "error",
     "traceback": [
      "\u001b[1;31m---------------------------------------------------------------------------\u001b[0m",
      "\u001b[1;31mAttributeError\u001b[0m                            Traceback (most recent call last)",
      "Cell \u001b[1;32mIn[29], line 1\u001b[0m\n\u001b[1;32m----> 1\u001b[0m \u001b[43mnp\u001b[49m\u001b[38;5;241;43m.\u001b[39;49m\u001b[43mmode\u001b[49m(arr)\n",
      "File \u001b[1;32m~\\AppData\\Local\\Programs\\Python\\Python312\\Lib\\site-packages\\numpy\\__init__.py:347\u001b[0m, in \u001b[0;36m__getattr__\u001b[1;34m(attr)\u001b[0m\n\u001b[0;32m    344\u001b[0m     \u001b[38;5;124m\"\u001b[39m\u001b[38;5;124mRemoved in NumPy 1.25.0\u001b[39m\u001b[38;5;124m\"\u001b[39m\n\u001b[0;32m    345\u001b[0m     \u001b[38;5;28;01mraise\u001b[39;00m \u001b[38;5;167;01mRuntimeError\u001b[39;00m(\u001b[38;5;124m\"\u001b[39m\u001b[38;5;124mTester was removed in NumPy 1.25.\u001b[39m\u001b[38;5;124m\"\u001b[39m)\n\u001b[1;32m--> 347\u001b[0m \u001b[38;5;28;01mraise\u001b[39;00m \u001b[38;5;167;01mAttributeError\u001b[39;00m(\u001b[38;5;124m\"\u001b[39m\u001b[38;5;124mmodule \u001b[39m\u001b[38;5;132;01m{!r}\u001b[39;00m\u001b[38;5;124m has no attribute \u001b[39m\u001b[38;5;124m\"\u001b[39m\n\u001b[0;32m    348\u001b[0m                      \u001b[38;5;124m\"\u001b[39m\u001b[38;5;132;01m{!r}\u001b[39;00m\u001b[38;5;124m\"\u001b[39m\u001b[38;5;241m.\u001b[39mformat(\u001b[38;5;18m__name__\u001b[39m, attr))\n",
      "\u001b[1;31mAttributeError\u001b[0m: module 'numpy' has no attribute 'mode'"
     ]
    }
   ],
   "source": [
    "np.mode(arr)"
   ]
  },
  {
   "cell_type": "code",
   "execution_count": 2,
   "id": "15bac5a8-ef9c-403d-ad59-a4b754ef78e3",
   "metadata": {},
   "outputs": [
    {
     "data": {
      "text/plain": [
       "array([[[162,  61, 190],\n",
       "        [162,  61, 190],\n",
       "        [164,  63, 192],\n",
       "        ...,\n",
       "        [226, 174, 204],\n",
       "        [227, 174, 207],\n",
       "        [227, 174, 207]],\n",
       "\n",
       "       [[160,  60, 190],\n",
       "        [162,  61, 190],\n",
       "        [163,  62, 191],\n",
       "        ...,\n",
       "        [222, 165, 203],\n",
       "        [222, 165, 203],\n",
       "        [222, 165, 204]],\n",
       "\n",
       "       [[160,  60, 190],\n",
       "        [160,  60, 190],\n",
       "        [163,  62, 191],\n",
       "        ...,\n",
       "        [216, 154, 202],\n",
       "        [215, 153, 201],\n",
       "        [215, 152, 202]],\n",
       "\n",
       "       ...,\n",
       "\n",
       "       [[  3,  86, 195],\n",
       "        [  3,  86, 195],\n",
       "        [  4,  87, 196],\n",
       "        ...,\n",
       "        [109, 149, 184],\n",
       "        [111, 148, 186],\n",
       "        [112, 148, 186]],\n",
       "\n",
       "       [[  3,  86, 195],\n",
       "        [  3,  86, 195],\n",
       "        [  4,  87, 196],\n",
       "        ...,\n",
       "        [114, 146, 187],\n",
       "        [116, 145, 189],\n",
       "        [116, 145, 189]],\n",
       "\n",
       "       [[  3,  86, 195],\n",
       "        [  3,  86, 195],\n",
       "        [  4,  87, 196],\n",
       "        ...,\n",
       "        [118, 144, 190],\n",
       "        [118, 144, 190],\n",
       "        [120, 143, 191]]], dtype=uint8)"
      ]
     },
     "execution_count": 2,
     "metadata": {},
     "output_type": "execute_result"
    }
   ],
   "source": [
    "import cv2 # open cv\n",
    "\n",
    "img = cv2.imread('download.jfif')\n",
    "img"
   ]
  },
  {
   "cell_type": "code",
   "execution_count": 31,
   "id": "e9534464-1151-41e3-a5c5-70220d437399",
   "metadata": {},
   "outputs": [
    {
     "data": {
      "text/plain": [
       "numpy.ndarray"
      ]
     },
     "execution_count": 31,
     "metadata": {},
     "output_type": "execute_result"
    }
   ],
   "source": [
    "type(img)"
   ]
  },
  {
   "cell_type": "code",
   "execution_count": 3,
   "id": "df2adcb7-3cdc-46a2-b729-850ea5f3703d",
   "metadata": {},
   "outputs": [],
   "source": [
    "cv2.imshow('image', img)"
   ]
  },
  {
   "cell_type": "code",
   "execution_count": 3,
   "id": "28ec7b07-f44d-4338-8e37-ce75bfc4fddb",
   "metadata": {},
   "outputs": [
    {
     "ename": "error",
     "evalue": "OpenCV(4.10.0) d:\\a\\opencv-python\\opencv-python\\opencv\\modules\\imgproc\\src\\color.simd_helpers.hpp:92: error: (-2:Unspecified error) in function '__cdecl cv::impl::`anonymous-namespace'::CvtHelper<struct cv::impl::`anonymous namespace'::Set<3,4,-1>,struct cv::impl::A0x46dff480::Set<3,4,-1>,struct cv::impl::A0x46dff480::Set<0,2,5>,4>::CvtHelper(const class cv::_InputArray &,const class cv::_OutputArray &,int)'\n> Invalid number of channels in input image:\n>     'VScn::contains(scn)'\n> where\n>     'scn' is 2\n",
     "output_type": "error",
     "traceback": [
      "\u001b[1;31m---------------------------------------------------------------------------\u001b[0m",
      "\u001b[1;31merror\u001b[0m                                     Traceback (most recent call last)",
      "Cell \u001b[1;32mIn[3], line 1\u001b[0m\n\u001b[1;32m----> 1\u001b[0m \u001b[43mcv2\u001b[49m\u001b[38;5;241;43m.\u001b[39;49m\u001b[43mimshow\u001b[49m\u001b[43m(\u001b[49m\u001b[38;5;124;43m\"\u001b[39;49m\u001b[38;5;124;43mimage\u001b[39;49m\u001b[38;5;124;43m\"\u001b[39;49m\u001b[43m,\u001b[49m\u001b[43m \u001b[49m\u001b[43mimg\u001b[49m\u001b[43m[\u001b[49m\u001b[43m:\u001b[49m\u001b[43m,\u001b[49m\u001b[43m \u001b[49m\u001b[43m:\u001b[49m\u001b[43m,\u001b[49m\u001b[43m \u001b[49m\u001b[38;5;241;43m0\u001b[39;49m\u001b[43m:\u001b[49m\u001b[38;5;241;43m-\u001b[39;49m\u001b[38;5;241;43m1\u001b[39;49m\u001b[43m]\u001b[49m\u001b[43m)\u001b[49m\n\u001b[0;32m      2\u001b[0m cv2\u001b[38;5;241m.\u001b[39mwaitKey(\u001b[38;5;241m0\u001b[39m)\n",
      "\u001b[1;31merror\u001b[0m: OpenCV(4.10.0) d:\\a\\opencv-python\\opencv-python\\opencv\\modules\\imgproc\\src\\color.simd_helpers.hpp:92: error: (-2:Unspecified error) in function '__cdecl cv::impl::`anonymous-namespace'::CvtHelper<struct cv::impl::`anonymous namespace'::Set<3,4,-1>,struct cv::impl::A0x46dff480::Set<3,4,-1>,struct cv::impl::A0x46dff480::Set<0,2,5>,4>::CvtHelper(const class cv::_InputArray &,const class cv::_OutputArray &,int)'\n> Invalid number of channels in input image:\n>     'VScn::contains(scn)'\n> where\n>     'scn' is 2\n"
     ]
    }
   ],
   "source": [
    "# cv2.imshow(\"image\", img[:, :, 0:-1])\n",
    "# cv2.waitKey(0)"
   ]
  },
  {
   "cell_type": "code",
   "execution_count": null,
   "id": "6404058e-33f7-4867-9f03-1eec931b88c1",
   "metadata": {},
   "outputs": [],
   "source": []
  }
 ],
 "metadata": {
  "kernelspec": {
   "display_name": "Python 3 (ipykernel)",
   "language": "python",
   "name": "python3"
  },
  "language_info": {
   "codemirror_mode": {
    "name": "ipython",
    "version": 3
   },
   "file_extension": ".py",
   "mimetype": "text/x-python",
   "name": "python",
   "nbconvert_exporter": "python",
   "pygments_lexer": "ipython3",
   "version": "3.12.4"
  }
 },
 "nbformat": 4,
 "nbformat_minor": 5
}
